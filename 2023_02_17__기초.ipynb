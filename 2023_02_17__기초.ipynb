{
 "cells": [
  {
   "cell_type": "markdown",
   "id": "3bfdda1f",
   "metadata": {},
   "source": [
    "# json 파일 다루기"
   ]
  },
  {
   "cell_type": "code",
   "execution_count": 14,
   "id": "b1091645",
   "metadata": {},
   "outputs": [],
   "source": [
    "import json"
   ]
  },
  {
   "cell_type": "code",
   "execution_count": 15,
   "id": "02182cfb",
   "metadata": {},
   "outputs": [],
   "source": [
    "with open('E:\\\\다양한 형태의 한글 문자 OCR\\\\Training\\\\[라벨]Training_필기체\\\\1.글자\\\\002\\\\00230001001.json', encoding = \"utf8\") as f:\n",
    "    json_object = json.load(f)"
   ]
  },
  {
   "cell_type": "code",
   "execution_count": 19,
   "id": "5b59f6b0",
   "metadata": {},
   "outputs": [
    {
     "data": {
      "text/plain": [
       "'00230001001.jpg'"
      ]
     },
     "execution_count": 19,
     "metadata": {},
     "output_type": "execute_result"
    }
   ],
   "source": [
    "# 사진\n",
    "json_object['image']['file_name']"
   ]
  },
  {
   "cell_type": "code",
   "execution_count": 20,
   "id": "dbb3e3af",
   "metadata": {},
   "outputs": [
    {
     "data": {
      "text/plain": [
       "'가'"
      ]
     },
     "execution_count": 20,
     "metadata": {},
     "output_type": "execute_result"
    }
   ],
   "source": [
    "# 라벨\n",
    "json_object['info']['text']"
   ]
  },
  {
   "cell_type": "markdown",
   "id": "42397ed9",
   "metadata": {},
   "source": [
    "위 방법으로 라벨들을 하나의 tensor 형태로 저장해서 사용하면 될 듯.\n",
    "\n",
    "코랩으로 돌리는게 나을 듯"
   ]
  },
  {
   "cell_type": "markdown",
   "id": "b1c4e0bf",
   "metadata": {},
   "source": [
    "# 이미지 <-> Numpy"
   ]
  },
  {
   "cell_type": "code",
   "execution_count": 31,
   "id": "8255c7a1",
   "metadata": {},
   "outputs": [],
   "source": [
    "import numpy as np\n",
    "from PIL import Image\n",
    "import torch"
   ]
  },
  {
   "cell_type": "code",
   "execution_count": 118,
   "id": "46bdc36c",
   "metadata": {},
   "outputs": [],
   "source": [
    "img = Image.open('E:\\\\다양한 형태의 한글 문자 OCR\\\\Training\\\\[원천]Training_필기체\\\\1.글자\\\\001\\\\00130001001.jpg')\n",
    "img.show()"
   ]
  },
  {
   "cell_type": "code",
   "execution_count": 191,
   "id": "398e76e6",
   "metadata": {
    "collapsed": true
   },
   "outputs": [
    {
     "name": "stdout",
     "output_type": "stream",
     "text": [
      "[[[253 253 253]\n",
      "  [253 253 253]\n",
      "  [253 253 253]\n",
      "  ...\n",
      "  [252 252 252]\n",
      "  [252 252 252]\n",
      "  [252 252 252]]\n",
      "\n",
      " [[253 253 253]\n",
      "  [253 253 253]\n",
      "  [253 253 253]\n",
      "  ...\n",
      "  [252 252 252]\n",
      "  [252 252 252]\n",
      "  [252 252 252]]\n",
      "\n",
      " [[253 253 253]\n",
      "  [253 253 253]\n",
      "  [253 253 253]\n",
      "  ...\n",
      "  [252 252 252]\n",
      "  [252 252 252]\n",
      "  [252 252 252]]\n",
      "\n",
      " ...\n",
      "\n",
      " [[252 252 252]\n",
      "  [252 252 252]\n",
      "  [252 252 252]\n",
      "  ...\n",
      "  [253 253 253]\n",
      "  [253 253 253]\n",
      "  [252 252 252]]\n",
      "\n",
      " [[254 254 254]\n",
      "  [254 254 254]\n",
      "  [254 254 254]\n",
      "  ...\n",
      "  [253 253 253]\n",
      "  [252 252 252]\n",
      "  [252 252 252]]\n",
      "\n",
      " [[254 254 254]\n",
      "  [254 254 254]\n",
      "  [254 254 254]\n",
      "  ...\n",
      "  [252 252 252]\n",
      "  [252 252 252]\n",
      "  [252 252 252]]]\n",
      "(110, 111, 3)\n"
     ]
    }
   ],
   "source": [
    "x = np.array(img)  # 이미지 -> 넘파이\n",
    "print(x)\n",
    "print(x.shape)   # (100,111,3)"
   ]
  },
  {
   "cell_type": "code",
   "execution_count": 274,
   "id": "392164d1",
   "metadata": {},
   "outputs": [],
   "source": [
    "img_2 = Image.fromarray(x) # 넘파이 -> 이미지\n",
    "img_2.show()"
   ]
  },
  {
   "attachments": {
    "image.png": {
     "image/png": "[encoded data removed]"
    }
   },
   "cell_type": "markdown",
   "id": "d6e38476",
   "metadata": {},
   "source": [
    "![image.png](attachment:image.png)"
   ]
  },
  {
   "cell_type": "code",
   "execution_count": 276,
   "id": "8721b405",
   "metadata": {},
   "outputs": [],
   "source": [
    "y = x.copy()"
   ]
  },
  {
   "cell_type": "code",
   "execution_count": 277,
   "id": "e940ba7a",
   "metadata": {
    "scrolled": true
   },
   "outputs": [
    {
     "data": {
      "text/plain": [
       "array([[253, 253, 253, ..., 252, 252, 252],\n",
       "       [253, 253, 253, ..., 252, 252, 252],\n",
       "       [253, 253, 253, ..., 252, 252, 252],\n",
       "       ...,\n",
       "       [252, 252, 252, ..., 253, 253, 252],\n",
       "       [254, 254, 254, ..., 253, 252, 252],\n",
       "       [254, 254, 254, ..., 252, 252, 252]], dtype=uint8)"
      ]
     },
     "execution_count": 277,
     "metadata": {},
     "output_type": "execute_result"
    }
   ],
   "source": [
    "y[:,:,0]   # 기존 3차원 데이터를 3개 차원으로 나눌수 있음."
   ]
  },
  {
   "cell_type": "code",
   "execution_count": 278,
   "id": "d665ff70",
   "metadata": {
    "scrolled": true
   },
   "outputs": [
    {
     "data": {
      "text/plain": [
       "(110, 111)"
      ]
     },
     "execution_count": 278,
     "metadata": {},
     "output_type": "execute_result"
    }
   ],
   "source": [
    "y[:,:,0].shape"
   ]
  },
  {
   "cell_type": "code",
   "execution_count": 280,
   "id": "8dfd2b06",
   "metadata": {},
   "outputs": [],
   "source": [
    "img_3 = Image.fromarray(y[:,:,0]) # NumPy array to PIL image\n",
    "img_3.show()"
   ]
  },
  {
   "attachments": {
    "image.png": {
     "image/png": "[encoded data removed]"
    }
   },
   "cell_type": "markdown",
   "id": "d912a25d",
   "metadata": {},
   "source": [
    "![image.png](attachment:image.png)"
   ]
  },
  {
   "cell_type": "code",
   "execution_count": 281,
   "id": "38bf202d",
   "metadata": {},
   "outputs": [],
   "source": [
    "img_3 = Image.fromarray(y[:,:,1]) # NumPy array to PIL image\n",
    "img_3`.show()"
   ]
  },
  {
   "attachments": {
    "image.png": {
     "image/png": "[encoded data removed]"
    }
   },
   "cell_type": "markdown",
   "id": "0b7f290e",
   "metadata": {},
   "source": [
    "![image.png](attachment:image.png)"
   ]
  },
  {
   "cell_type": "code",
   "execution_count": 282,
   "id": "d673c6b9",
   "metadata": {},
   "outputs": [],
   "source": [
    "img_3 = Image.fromarray(y[:,:,2]) # NumPy array to PIL image\n",
    "img_3.show()"
   ]
  },
  {
   "attachments": {
    "image.png": {
     "image/png": "[encoded data removed]"
    }
   },
   "cell_type": "markdown",
   "id": "499eb944",
   "metadata": {},
   "source": [
    "![image.png](attachment:image.png)"
   ]
  },
  {
   "cell_type": "markdown",
   "id": "0b86d0d9",
   "metadata": {},
   "source": [
    "### 3개 차원의 글씨가 별 반 다를게 없어보임 => 학습 데이터 증가 가능\n",
    "#### 약간 회전 하는 방식? => batch norm (어차피 모델에 포함 되어있음.)"
   ]
  },
  {
   "cell_type": "code",
   "execution_count": 290,
   "id": "0093ed9c",
   "metadata": {},
   "outputs": [],
   "source": [
    "scaled_y = y.copy()"
   ]
  },
  {
   "cell_type": "code",
   "execution_count": 291,
   "id": "382d0893",
   "metadata": {},
   "outputs": [],
   "source": [
    "scaled_y0 = scaled_y[:,:,0]\n",
    "scaled_y1 = scaled_y[:,:,1]\n",
    "scaled_y2 = scaled_y[:,:,2]"
   ]
  },
  {
   "cell_type": "code",
   "execution_count": 303,
   "id": "4c510311",
   "metadata": {},
   "outputs": [],
   "source": [
    "scaled_y0[(scaled_y0 >= 220)] = 255\n",
    "scaled_y1[(scaled_y1 >= 220)] = 255\n",
    "scaled_y2[(scaled_y2 >= 220)] = 255"
   ]
  },
  {
   "cell_type": "code",
   "execution_count": 304,
   "id": "e23d49f8",
   "metadata": {},
   "outputs": [],
   "source": [
    "scaled_y0[(scaled_y0 < 220)] = 0\n",
    "scaled_y1[(scaled_y1 < 220)] = 0\n",
    "scaled_y2[(scaled_y2 < 220)] = 0"
   ]
  },
  {
   "cell_type": "markdown",
   "id": "c05357b1",
   "metadata": {},
   "source": [
    "#### 여기서 위 기준을 220이 아니라 240, 230, 220 으로 나누면 약간의 노이즈 차이 발생\n",
    "=> 오버피팅 방지 효과도 있을 듯"
   ]
  },
  {
   "cell_type": "code",
   "execution_count": 308,
   "id": "2a1b45f2",
   "metadata": {},
   "outputs": [],
   "source": [
    "img_3 = Image.fromarray(scaled_y0) # NumPy array to PIL image\n",
    "img_3.show()"
   ]
  },
  {
   "attachments": {
    "image.png": {
     "image/png": "[encoded data removed]"
    }
   },
   "cell_type": "markdown",
   "id": "cf6e242d",
   "metadata": {},
   "source": [
    "![image.png](attachment:image.png)"
   ]
  },
  {
   "cell_type": "code",
   "execution_count": 309,
   "id": "4b87ef80",
   "metadata": {},
   "outputs": [],
   "source": [
    "img_3 = Image.fromarray(scaled_y1) # NumPy array to PIL image\n",
    "img_3.show()"
   ]
  },
  {
   "attachments": {
    "image.png": {
     "image/png": "[encoded data removed]"
    }
   },
   "cell_type": "markdown",
   "id": "5ebdf10e",
   "metadata": {},
   "source": [
    "![image.png](attachment:image.png)"
   ]
  },
  {
   "cell_type": "code",
   "execution_count": 310,
   "id": "b6843cd6",
   "metadata": {},
   "outputs": [],
   "source": [
    "img_3 = Image.fromarray(scaled_y2) # NumPy array to PIL image\n",
    "img_3.show()"
   ]
  },
  {
   "attachments": {
    "image.png": {
     "image/png": "[encoded data removed]"
    }
   },
   "cell_type": "markdown",
   "id": "dd83728f",
   "metadata": {},
   "source": [
    "![image.png](attachment:image.png)"
   ]
  },
  {
   "cell_type": "code",
   "execution_count": null,
   "id": "583526af",
   "metadata": {},
   "outputs": [],
   "source": []
  }
 ],
 "metadata": {
  "jupytext": {
   "formats": "ipynb,auto:light"
  },
  "kernelspec": {
   "display_name": "Python 3 (ipykernel)",
   "language": "python",
   "name": "python3"
  },
  "language_info": {
   "codemirror_mode": {
    "name": "ipython",
    "version": 3
   },
   "file_extension": ".py",
   "mimetype": "text/x-python",
   "name": "python",
   "nbconvert_exporter": "python",
   "pygments_lexer": "ipython3",
   "version": "3.9.13"
  }
 },
 "nbformat": 4,
 "nbformat_minor": 5
}
